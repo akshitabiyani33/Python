{
 "cells": [
  {
   "cell_type": "code",
   "execution_count": 1,
   "metadata": {},
   "outputs": [],
   "source": [
    "from IPython.display import clear_output\n",
    "\n",
    "def display_board(board):\n",
    "    clear_output()\n",
    "    print(board[7]+'|'+board[8]+'|'+board[9])\n",
    "    print(board[4]+'|'+board[5]+'|'+board[6])\n",
    "    print(board[1]+'|'+board[2]+'|'+board[3])"
   ]
  },
  {
   "cell_type": "code",
   "execution_count": null,
   "metadata": {},
   "outputs": [],
   "source": []
  },
  {
   "cell_type": "code",
   "execution_count": 2,
   "metadata": {},
   "outputs": [],
   "source": [
    "def player_input():\n",
    "    choice='WRONG'\n",
    "    while(choice not in ['X','O']):\n",
    "        choice=input(\"Player 1 select X or O: \").upper()\n",
    "    print(\"Player 1 is \"+choice) \n",
    "    return choice"
   ]
  },
  {
   "cell_type": "code",
   "execution_count": null,
   "metadata": {},
   "outputs": [],
   "source": []
  },
  {
   "cell_type": "code",
   "execution_count": 3,
   "metadata": {},
   "outputs": [],
   "source": [
    "def place_marker(board, marker, position):\n",
    "    board[position]=marker"
   ]
  },
  {
   "cell_type": "code",
   "execution_count": null,
   "metadata": {},
   "outputs": [],
   "source": []
  },
  {
   "cell_type": "code",
   "execution_count": 4,
   "metadata": {},
   "outputs": [],
   "source": [
    "def win_check(board,mark):\n",
    "    win_list={(1,2,3),(4,5,6),(7,8,9),(1,4,7),(2,5,8),(3,6,9),(1,5,9),(3,5,7)}\n",
    "    flag=0;\n",
    "    for item in win_list:\n",
    "        for i in item:\n",
    "            if board[i]!=mark:\n",
    "                flag=0\n",
    "                break;\n",
    "            else: flag=1\n",
    "        if flag==1: break\n",
    "    return flag==1"
   ]
  },
  {
   "cell_type": "code",
   "execution_count": null,
   "metadata": {},
   "outputs": [],
   "source": [
    "  "
   ]
  },
  {
   "cell_type": "code",
   "execution_count": 5,
   "metadata": {},
   "outputs": [],
   "source": [
    "import random\n",
    "\n",
    "def choose_first():\n",
    "    first=random.randint(1,2)\n",
    "    print(\"Player \"+str(first)+\" goes first.\")\n",
    "    return first"
   ]
  },
  {
   "cell_type": "code",
   "execution_count": null,
   "metadata": {},
   "outputs": [],
   "source": []
  },
  {
   "cell_type": "code",
   "execution_count": 6,
   "metadata": {},
   "outputs": [],
   "source": [
    "def space_check(board,position): \n",
    "    return board[position]==' '"
   ]
  },
  {
   "cell_type": "code",
   "execution_count": null,
   "metadata": {},
   "outputs": [],
   "source": []
  },
  {
   "cell_type": "code",
   "execution_count": 7,
   "metadata": {},
   "outputs": [],
   "source": [
    "def full_board_check(board):\n",
    "    flag=1\n",
    "    for item in board:\n",
    "        if item==' ':\n",
    "            flag=0\n",
    "    return flag==1\n",
    "    "
   ]
  },
  {
   "cell_type": "code",
   "execution_count": null,
   "metadata": {},
   "outputs": [],
   "source": []
  },
  {
   "cell_type": "code",
   "execution_count": 8,
   "metadata": {},
   "outputs": [],
   "source": [
    "def player_choice(board):\n",
    "    choice=0\n",
    "    while choice not in range(1,10):\n",
    "        choice=int(input(\"Enter position: \"))\n",
    "    if not space_check(board,choice):\n",
    "        print(\"Already filled!\")\n",
    "        player_choice(board)\n",
    "    return choice       "
   ]
  },
  {
   "cell_type": "code",
   "execution_count": null,
   "metadata": {},
   "outputs": [],
   "source": []
  },
  {
   "cell_type": "code",
   "execution_count": 9,
   "metadata": {},
   "outputs": [],
   "source": [
    "def replay():\n",
    "    choice='Wrong'\n",
    "    while choice not in ['Y','N']:\n",
    "        choice=input(\"Do you wanna play again? Enter Y if Yes and N if No: \")\n",
    "    return choice=='Y'"
   ]
  },
  {
   "cell_type": "code",
   "execution_count": null,
   "metadata": {},
   "outputs": [],
   "source": []
  },
  {
   "cell_type": "code",
   "execution_count": null,
   "metadata": {},
   "outputs": [
    {
     "name": "stdout",
     "output_type": "stream",
     "text": [
      " | |X\n",
      " |X| \n",
      "X|O|O\n",
      "Player 2 wins!\n"
     ]
    }
   ],
   "source": [
    "print('Welcome to Tic Tac Toe!')\n",
    "\n",
    "while True:\n",
    "    test_board=['#','1','2','3','4','5','6','7','8','9']\n",
    "    display_board(test_board)\n",
    "    test_board=['#',' ',' ',' ',' ',' ',' ',' ',' ',' ']\n",
    "    mark1=player_input()\n",
    "    first=choose_first()\n",
    "    if mark1=='X': \n",
    "        mark2='O'\n",
    "    else: \n",
    "        mark2='X'\n",
    "    while not full_board_check(test_board):\n",
    "        \n",
    "        if first==1:\n",
    "            print(\"\\nPlayer \"+str(first))\n",
    "            position = player_choice(test_board)\n",
    "            if space_check(test_board,position): \n",
    "                place_marker(test_board,mark1,position)\n",
    "            display_board(test_board)\n",
    "            \n",
    "            if win_check(test_board,mark1):\n",
    "                print(\"Player \"+str(first)+\" wins!\")\n",
    "                break\n",
    "            first=2    \n",
    "                \n",
    "        if first==2:\n",
    "            print(\"\\nPlayer \"+str(first))\n",
    "            position = player_choice(test_board)\n",
    "            if space_check(test_board,position): \n",
    "                place_marker(test_board,mark2,position)\n",
    "            display_board(test_board)\n",
    "            \n",
    "            if win_check(test_board,mark2):\n",
    "                print(\"Player \"+str(first)+\" wins!\")\n",
    "                break\n",
    "            first=1\n",
    "            \n",
    "    if not replay():\n",
    "        break\n",
    "    \n",
    "    \n",
    "    \n",
    "    "
   ]
  },
  {
   "cell_type": "code",
   "execution_count": null,
   "metadata": {},
   "outputs": [],
   "source": []
  }
 ],
 "metadata": {
  "kernelspec": {
   "display_name": "Python 3",
   "language": "python",
   "name": "python3"
  },
  "language_info": {
   "codemirror_mode": {
    "name": "ipython",
    "version": 3
   },
   "file_extension": ".py",
   "mimetype": "text/x-python",
   "name": "python",
   "nbconvert_exporter": "python",
   "pygments_lexer": "ipython3",
   "version": "3.7.6"
  }
 },
 "nbformat": 4,
 "nbformat_minor": 4
}
